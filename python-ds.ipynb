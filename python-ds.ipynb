{
 "cells": [
  {
   "attachments": {},
   "cell_type": "markdown",
   "metadata": {},
   "source": [
    "# Web Mining and Applied NLP (44-620)\n",
    "\n",
    "## Python Notebooks, Basics, and Data Structures\n",
    "\n",
    "### Student Name: Gorentla Priyanka. GitHub Link: https://github.com/gpriyankav/python-ds-nb\n",
    "\n",
    "Perform the tasks described in the Markdown cells below.  When you have completed the assignment make sure your code cells have all been run (and have output beneath them) and ensure you have committed and pushed ALL of your changes to your assignment repository.\n",
    "\n",
    "Every question that requires you to write code will have a code cell underneath it; you may either write your entire solution in that cell or write it in a python file (`.py`), then import and run the appropriate code to answer the question.\n",
    "\n",
    "Do not use external modules (`math`, etc) for this assignment unless you are explicitly instructed to, though you may use built in python functions (`min`, `max`, etc) as you wish."
   ]
  },
  {
   "cell_type": "markdown",
   "metadata": {},
   "source": [
    "1. Modify the Markdown cell above to put your name after \"Student Name:\"; you will be expected to do this in all assignments presented in this format for this class."
   ]
  },
  {
   "cell_type": "markdown",
   "metadata": {},
   "source": [
    "2. Write code that divides any two numbers, stores the result in a variable, and prints the result with an appropriate label."
   ]
  },
  {
   "cell_type": "code",
   "execution_count": 3,
   "metadata": {},
   "outputs": [
    {
     "name": "stdout",
     "output_type": "stream",
     "text": [
      "firstNumber is: 35.0\n",
      "secondNumber is: 3.0\n",
      "Division of first and second numbers is: 11.666666666666666\n"
     ]
    }
   ],
   "source": [
    "# Enter numerator and denominator \n",
    "firstNumber = float(input(\"Enter first number: \"))\n",
    "secondNumber = float(input(\"Enter second number: \"))\n",
    "# Perform Calculation\n",
    "result = firstNumber/secondNumber\n",
    "# Displaying Result\n",
    "print(\"firstNumber is:\", firstNumber)\n",
    "print(\"secondNumber is:\", secondNumber)\n",
    "print(\"Division of first and second numbers is:\", result)"
   ]
  },
  {
   "cell_type": "markdown",
   "metadata": {},
   "source": [
    "3. Using loops (and potentially conditionals), write Python code that prints the factorial of each integer from 1 through 10 (which you can store in a variable if you want). The factorial of an integer is the product of all of the integers of 1 through the number. Print the result with an appropriate label."
   ]
  },
  {
   "cell_type": "code",
   "execution_count": 6,
   "metadata": {},
   "outputs": [
    {
     "name": "stdout",
     "output_type": "stream",
     "text": [
      "Factorial of 1 through 10 is: 3628800\n"
     ]
    }
   ],
   "source": [
    "def factor(n):\n",
    "    if n == 0:\n",
    "        return 1\n",
    "    else :\n",
    "        return n* factor(n-1)\n",
    "\n",
    "for i in range(1, 11):\n",
    "    factorial = factor(i)\n",
    "print(\"Factorial of 1 through 10 is:\", factorial)\n"
   ]
  },
  {
   "cell_type": "markdown",
   "metadata": {},
   "source": [
    "4. Write a python function that takes a single parameter and calculates and returns the average (mean) of the values in the parameter (which you may assume is iterable).  Show that your function works by printing the result of calling the function on the list in the cell below."
   ]
  },
  {
   "cell_type": "code",
   "execution_count": 8,
   "metadata": {},
   "outputs": [
    {
     "name": "stdout",
     "output_type": "stream",
     "text": [
      "Average value of testlist is: 0.0\n"
     ]
    }
   ],
   "source": [
    "testlist = [1,-1,2,-2,3,-3,4,-4]\n",
    "def average_calculation(listofvalues):\n",
    "    total = sum(listofvalues)\n",
    "    count = len(listofvalues)\n",
    "    average = total/count\n",
    "    return average\n",
    "\n",
    "output = average_calculation(testlist)\n",
    "print(\"Average value of testlist is:\", output)"
   ]
  },
  {
   "cell_type": "markdown",
   "metadata": {},
   "source": [
    "5. Using your mean function above, write a function that calculates the variance of the list of numbers (see https://en.wikipedia.org/wiki/Variance for more information on the formula). In short:\n",
    "* subtract the mean of the elements in the list from every element in the list; store these values in a new list\n",
    "* square every element in the new list and sum the elements together\n",
    "* divide the resulting number by N (where N is the length of the original list)\n",
    "\n",
    "Show the result of calling your function in the lists in the code cell. You must use one or more list comprehensions or map/filter in your code.\n"
   ]
  },
  {
   "cell_type": "code",
   "execution_count": 18,
   "metadata": {},
   "outputs": [
    {
     "name": "stdout",
     "output_type": "stream",
     "text": [
      "Variance of mentioned list1 is: 1.13973309\n",
      "Variance of mentioned list2 is: 1.13973309\n"
     ]
    }
   ],
   "source": [
    "list1 = [ 5.670e-1, -1.480e+0, -5.570e-1, -1.470e+0, 7.340e-1, 1.050e+0, 4.480e-1, 2.570e-1, -1.970e+0, -1.460e+0]\n",
    "list2 = [-1.780e+0, 2.640e-1, 1.160e+0, 9.080e-1, 1.780e+0, 1.080e+0, 1.050e+0, -4.630e-2, 1.520e+0, 5.350e-1]\n",
    "# the variances of both lists should be relatively close to 1 (off by less than .15)\n",
    "\n",
    "def variance_cal(list):\n",
    "    count = len(list)\n",
    "    mean = sum(list)/count\n",
    "    sub_square_list = [(i-mean) ** 2 for i in list]\n",
    "    sum_list = sum(sub_square_list)\n",
    "    final_variance = sum_list/count\n",
    "    return final_variance\n",
    "\n",
    "#list1 variance calculation\n",
    "variance1 = variance_cal(list1)\n",
    "print(\"Variance of mentioned list1 is:\", variance1)\n",
    "#list2 variance calculation\n",
    "variance2 = variance_cal(list1)\n",
    "print(\"Variance of mentioned list2 is:\", variance2)\n"
   ]
  },
  {
   "cell_type": "markdown",
   "metadata": {},
   "source": [
    "6. Create a list with at least 15 elements in it. Use list slicing to print the following:\n",
    "* The first 5 elements of the list\n",
    "* The last 5 elements of the list\n",
    "* The list reversed (hint, show the entire list with a stride of -1)\n",
    "* Every second element in the list\n",
    "* Every third element in the list (stride of 3)"
   ]
  },
  {
   "cell_type": "code",
   "execution_count": 27,
   "metadata": {},
   "outputs": [
    {
     "name": "stdout",
     "output_type": "stream",
     "text": [
      "First 5 elenents of the list are: [-5, 1, 4, 7, 9]\n",
      "Last 5 elenents of the list are: [24, 27, 28, 33, 38]\n",
      "Reverse order of the list is: [38, 33, 28, 27, 24, 21, 19, 16, 14, 11, 9, 7, 4, 1, -5]\n",
      "Every second element in the list: [-5, 4, 9, 14, 19, 24, 28, 38]\n",
      "Every third element in the list: [-5, 7, 14, 21, 28]\n"
     ]
    }
   ],
   "source": [
    "list = [-5, 1, 4, 7, 9, 11, 14, 16, 19, 21, 24, 27, 28, 33, 38]\n",
    "print(\"First 5 elenents of the list are:\", list[0:5])\n",
    "print(\"Last 5 elenents of the list are:\", list[-5:15])\n",
    "print(\"Reverse order of the list is:\", list[::-1])\n",
    "print(\"Every second element in the list:\", list[::2])\n",
    "print(\"Every third element in the list:\", list[::3])"
   ]
  },
  {
   "cell_type": "markdown",
   "metadata": {},
   "source": [
    "7. Build a dictionary that contains the following information about this class (with appropriate names as keys):\n",
    "* The name\n",
    "* The course number\n",
    "* The semester/term in which you are taking this course\n",
    "* The number of credit hours this course counts for\n",
    "* A list of the course learning objectives\n",
    "\n",
    "The majority of this information can be found in the syllabus. Print the dictionary."
   ]
  },
  {
   "cell_type": "code",
   "execution_count": 33,
   "metadata": {},
   "outputs": [
    {
     "name": "stdout",
     "output_type": "stream",
     "text": [
      "{'name': 'Web Mining and Applied Natural Language Processing', 'course_number': 'CSIS 44620', 'semester/term': 'Summer 2023', 'credit_hours': '3', 'learning_objectives': ['L01:Manage Python libraries and packages', 'L02:Interact with Hosted Version Control Systems (e.g.Git and GitHub)', 'L03:Programmatically obtain and transform data from web-based APIs and HTML pages into a usable form', 'L04:Describe the steps in a basic Natural Language Processing Pipeline', 'L05:Use preexisting tools and software libraries to perform some Natural Language Processing,such as sentiment analysis', 'L06:Explain results and conclusions drawn from the visualized information']}\n"
     ]
    }
   ],
   "source": [
    "class_details = {\n",
    "    \"name\": \"Web Mining and Applied Natural Language Processing\",\n",
    "    \"course_number\": \"CSIS 44620\",\n",
    "    \"semester/term\": \"Summer 2023\",\n",
    "    \"credit_hours\":\"3\",\n",
    "    \"learning_objectives\" : [\"L01:Manage Python libraries and packages\",\n",
    "                             \"L02:Interact with Hosted Version Control Systems (e.g.Git and GitHub)\",\n",
    "                             \"L03:Programmatically obtain and transform data from web-based APIs and HTML pages into a usable form\",\n",
    "                             \"L04:Describe the steps in a basic Natural Language Processing Pipeline\",                          \n",
    "                             \"L05:Use preexisting tools and software libraries to perform some Natural Language Processing,such as sentiment analysis\",   \n",
    "                             \"L06:Explain results and conclusions drawn from the visualized information\"]\n",
    "}\n",
    "print(class_details)"
   ]
  },
  {
   "attachments": {},
   "cell_type": "markdown",
   "metadata": {},
   "source": [
    "8.  Given the dictionary defined in the code cell below, print the list of level 3 spells the character has."
   ]
  },
  {
   "cell_type": "code",
   "execution_count": 38,
   "metadata": {},
   "outputs": [
    {
     "name": "stdout",
     "output_type": "stream",
     "text": [
      "List of level 3 spells character has: ['Mass Healing Word', 'Nondetection', 'Revivify', 'Feign Death', 'Speak with Dead']\n"
     ]
    }
   ],
   "source": [
    "player_character = {'name': 'Kitab',\n",
    "                   'class': [('Cleric: Knowledge', 7)],\n",
    "                   'spells': {'cantrip': ['Guidance', 'Light', 'Thaumaturgy', 'Toll the Dead', 'Word of Radiance'],\n",
    "                             'level 1': ['Command', 'Detect Magic', 'Healing Word', 'Identify', 'Sleep'],\n",
    "                             'level 2': ['Augury', 'Calm Emotions', 'Command', 'Invisibility', 'Lesser Restoration'],\n",
    "                             'level 3': ['Mass Healing Word', 'Nondetection', 'Revivify', 'Feign Death', 'Speak with Dead'],\n",
    "                             'level 4': ['Banishment', 'Confusion']}\n",
    "                   }\n",
    "print(\"List of level 3 spells character has:\", player_character['spells']['level 3'])"
   ]
  },
  {
   "cell_type": "markdown",
   "metadata": {},
   "source": [
    "9. Write code to determine the number of unique elements in the list below.  You MUST use a set in finding your solution.  Print the number of unique values in the list with an appropriate label."
   ]
  },
  {
   "cell_type": "code",
   "execution_count": 44,
   "metadata": {},
   "outputs": [
    {
     "name": "stdout",
     "output_type": "stream",
     "text": [
      "List of unique values from above: {0, 1, 5, 6, 7, 8, 9, 10, 11, 12, 13, 15}\n",
      "Count of unique values: 12\n"
     ]
    }
   ],
   "source": [
    "values = [10, 11, 10, 8, 1, 12, 0, 1, 6, 5, 5, 13, 6, 15, 0, 0, 1, 1, 9, 7]\n",
    "unique_values = set(values)\n",
    "count = len(unique_values)\n",
    "print(\"List of unique values from above:\", unique_values)\n",
    "print(\"Count of unique values:\", count)"
   ]
  },
  {
   "cell_type": "markdown",
   "metadata": {},
   "source": [
    "10. Create a new Jupyter Notebook (the name of the notebook should be your S number). Add a Markdown cell that contains your name. Add a Code cell and write Python that uses loops to draw the following pattern:\n",
    "\n",
    "```\n",
    "*      *\n",
    "**    **\n",
    "***  ***\n",
    "********\n",
    "```\n",
    "Make sure to add and submit both the new notebook and the changes to this notebook for this assignment."
   ]
  }
 ],
 "metadata": {
  "kernelspec": {
   "display_name": "Python 3",
   "language": "python",
   "name": "python3"
  },
  "language_info": {
   "codemirror_mode": {
    "name": "ipython",
    "version": 3
   },
   "file_extension": ".py",
   "mimetype": "text/x-python",
   "name": "python",
   "nbconvert_exporter": "python",
   "pygments_lexer": "ipython3",
   "version": "3.9.13"
  }
 },
 "nbformat": 4,
 "nbformat_minor": 4
}
